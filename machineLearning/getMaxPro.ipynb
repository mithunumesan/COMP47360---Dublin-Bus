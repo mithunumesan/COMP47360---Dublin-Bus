{
 "cells": [
  {
   "cell_type": "code",
   "execution_count": 1,
   "metadata": {},
   "outputs": [],
   "source": [
    "import pandas as pd\n",
    "import numpy as np"
   ]
  },
  {
   "cell_type": "markdown",
   "metadata": {},
   "source": [
    "# Read rt_leavetimes_DB_2018 file"
   ]
  },
  {
   "cell_type": "markdown",
   "metadata": {},
   "source": [
    "This file is read to get the total number of stops for each trip in the trip file"
   ]
  },
  {
   "cell_type": "markdown",
   "metadata": {},
   "source": [
    "# Explain the meaning of each feature"
   ]
  },
  {
   "cell_type": "markdown",
   "metadata": {},
   "source": [
    "- DATASOURCE: Bus operator code\n",
    "- DAYOFSERVICE: date of service of the bus\n",
    "- TRIPID: Trip ID to check if it is the same trip that needs to be combined with DAYOFSERVICE\n",
    "- LINEID: Route ID\n",
    "- ROUTEID: Route ID\n",
    "- DIRECTION indicates the direction of the bus form (forward or reverse)\n",
    "- PLANNEDTIME_ARR Planned trip arrival time\n",
    "- PLANNEDTIME_DEP Planned trip departure time\n",
    "- ACTUALTIME_ARR Actual trip arrival time\n",
    "- ACTUALTIME_DEP Actual trip departure time\n",
    "- BASIN Basin code\n",
    "- TENDERLOT Tender lot\n",
    "- SUPPRESSED Whether suppressed at this station (0 for arrival, 1 for suppressed)\n",
    "- JUSTIFICATIONID fault code\n",
    "- LASTUPDATE Time of last update\n",
    "- NOTE Note"
   ]
  },
  {
   "cell_type": "markdown",
   "metadata": {},
   "source": [
    "### Read the file"
   ]
  },
  {
   "cell_type": "code",
   "execution_count": 2,
   "metadata": {},
   "outputs": [],
   "source": [
    "chunks=10**6"
   ]
  },
  {
   "cell_type": "code",
   "execution_count": 3,
   "metadata": {},
   "outputs": [
    {
     "name": "stdout",
     "output_type": "stream",
     "text": [
      "0\n",
      "1\n",
      "2\n",
      "3\n",
      "4\n",
      "5\n",
      "6\n",
      "7\n",
      "8\n",
      "9\n",
      "10\n",
      "11\n",
      "12\n",
      "13\n",
      "14\n",
      "15\n",
      "16\n",
      "17\n",
      "18\n",
      "19\n",
      "20\n",
      "21\n",
      "22\n",
      "23\n",
      "24\n",
      "25\n",
      "26\n",
      "27\n",
      "28\n",
      "29\n",
      "30\n",
      "31\n",
      "32\n",
      "33\n",
      "34\n",
      "35\n",
      "36\n",
      "37\n",
      "38\n",
      "39\n",
      "40\n",
      "41\n",
      "42\n",
      "43\n",
      "44\n",
      "45\n",
      "46\n",
      "47\n",
      "48\n",
      "49\n",
      "50\n",
      "51\n",
      "52\n",
      "53\n",
      "54\n",
      "55\n",
      "56\n",
      "57\n",
      "58\n",
      "59\n",
      "60\n",
      "61\n",
      "62\n",
      "63\n",
      "64\n",
      "65\n",
      "66\n",
      "67\n",
      "68\n",
      "69\n",
      "70\n",
      "71\n",
      "72\n",
      "73\n",
      "74\n",
      "75\n",
      "76\n",
      "77\n",
      "78\n",
      "79\n",
      "80\n",
      "81\n",
      "82\n",
      "83\n",
      "84\n",
      "85\n",
      "86\n",
      "87\n",
      "88\n",
      "89\n",
      "90\n",
      "91\n",
      "92\n",
      "93\n",
      "94\n",
      "95\n",
      "96\n",
      "97\n",
      "98\n",
      "99\n",
      "100\n",
      "101\n",
      "102\n",
      "103\n",
      "104\n",
      "105\n",
      "106\n",
      "107\n",
      "108\n",
      "109\n",
      "110\n",
      "111\n",
      "112\n",
      "113\n",
      "114\n",
      "115\n",
      "116\n"
     ]
    }
   ],
   "source": [
    "i=0\n",
    "df_le={}\n",
    "for chunk in pd.read_csv('/tmp/data/rt_leavetimes_DB_2018.txt', chunksize=chunks,delimiter=';',keep_default_na=True):\n",
    "    try:\n",
    "        print(i)\n",
    "        df_le[i]=chunk \n",
    "        i=i+1   \n",
    "    except Exception as e:\n",
    "        print(e)"
   ]
  },
  {
   "cell_type": "code",
   "execution_count": 4,
   "metadata": {},
   "outputs": [
    {
     "data": {
      "text/html": [
       "<div>\n",
       "<style scoped>\n",
       "    .dataframe tbody tr th:only-of-type {\n",
       "        vertical-align: middle;\n",
       "    }\n",
       "\n",
       "    .dataframe tbody tr th {\n",
       "        vertical-align: top;\n",
       "    }\n",
       "\n",
       "    .dataframe thead th {\n",
       "        text-align: right;\n",
       "    }\n",
       "</style>\n",
       "<table border=\"1\" class=\"dataframe\">\n",
       "  <thead>\n",
       "    <tr style=\"text-align: right;\">\n",
       "      <th></th>\n",
       "      <th>DATASOURCE</th>\n",
       "      <th>DAYOFSERVICE</th>\n",
       "      <th>TRIPID</th>\n",
       "      <th>PROGRNUMBER</th>\n",
       "      <th>STOPPOINTID</th>\n",
       "      <th>PLANNEDTIME_ARR</th>\n",
       "      <th>PLANNEDTIME_DEP</th>\n",
       "      <th>ACTUALTIME_ARR</th>\n",
       "      <th>ACTUALTIME_DEP</th>\n",
       "      <th>VEHICLEID</th>\n",
       "      <th>PASSENGERS</th>\n",
       "      <th>PASSENGERSIN</th>\n",
       "      <th>PASSENGERSOUT</th>\n",
       "      <th>DISTANCE</th>\n",
       "      <th>SUPPRESSED</th>\n",
       "      <th>JUSTIFICATIONID</th>\n",
       "      <th>LASTUPDATE</th>\n",
       "      <th>NOTE</th>\n",
       "    </tr>\n",
       "  </thead>\n",
       "  <tbody>\n",
       "    <tr>\n",
       "      <th>0</th>\n",
       "      <td>DB</td>\n",
       "      <td>01-JAN-18 00:00:00</td>\n",
       "      <td>5972116</td>\n",
       "      <td>12</td>\n",
       "      <td>119</td>\n",
       "      <td>48030</td>\n",
       "      <td>48030</td>\n",
       "      <td>48012</td>\n",
       "      <td>48012</td>\n",
       "      <td>2693211</td>\n",
       "      <td>NaN</td>\n",
       "      <td>NaN</td>\n",
       "      <td>NaN</td>\n",
       "      <td>NaN</td>\n",
       "      <td>NaN</td>\n",
       "      <td>NaN</td>\n",
       "      <td>08-JAN-18 17:21:10</td>\n",
       "      <td>NaN</td>\n",
       "    </tr>\n",
       "    <tr>\n",
       "      <th>1</th>\n",
       "      <td>DB</td>\n",
       "      <td>01-JAN-18 00:00:00</td>\n",
       "      <td>5966674</td>\n",
       "      <td>12</td>\n",
       "      <td>119</td>\n",
       "      <td>54001</td>\n",
       "      <td>54001</td>\n",
       "      <td>54023</td>\n",
       "      <td>54023</td>\n",
       "      <td>2693267</td>\n",
       "      <td>NaN</td>\n",
       "      <td>NaN</td>\n",
       "      <td>NaN</td>\n",
       "      <td>NaN</td>\n",
       "      <td>NaN</td>\n",
       "      <td>NaN</td>\n",
       "      <td>08-JAN-18 17:21:10</td>\n",
       "      <td>NaN</td>\n",
       "    </tr>\n",
       "    <tr>\n",
       "      <th>2</th>\n",
       "      <td>DB</td>\n",
       "      <td>01-JAN-18 00:00:00</td>\n",
       "      <td>5959105</td>\n",
       "      <td>12</td>\n",
       "      <td>119</td>\n",
       "      <td>60001</td>\n",
       "      <td>60001</td>\n",
       "      <td>59955</td>\n",
       "      <td>59955</td>\n",
       "      <td>2693263</td>\n",
       "      <td>NaN</td>\n",
       "      <td>NaN</td>\n",
       "      <td>NaN</td>\n",
       "      <td>NaN</td>\n",
       "      <td>NaN</td>\n",
       "      <td>NaN</td>\n",
       "      <td>08-JAN-18 17:21:10</td>\n",
       "      <td>NaN</td>\n",
       "    </tr>\n",
       "    <tr>\n",
       "      <th>3</th>\n",
       "      <td>DB</td>\n",
       "      <td>01-JAN-18 00:00:00</td>\n",
       "      <td>5966888</td>\n",
       "      <td>12</td>\n",
       "      <td>119</td>\n",
       "      <td>58801</td>\n",
       "      <td>58801</td>\n",
       "      <td>58771</td>\n",
       "      <td>58771</td>\n",
       "      <td>2693284</td>\n",
       "      <td>NaN</td>\n",
       "      <td>NaN</td>\n",
       "      <td>NaN</td>\n",
       "      <td>NaN</td>\n",
       "      <td>NaN</td>\n",
       "      <td>NaN</td>\n",
       "      <td>08-JAN-18 17:21:10</td>\n",
       "      <td>NaN</td>\n",
       "    </tr>\n",
       "    <tr>\n",
       "      <th>4</th>\n",
       "      <td>DB</td>\n",
       "      <td>01-JAN-18 00:00:00</td>\n",
       "      <td>5965960</td>\n",
       "      <td>12</td>\n",
       "      <td>119</td>\n",
       "      <td>56401</td>\n",
       "      <td>56401</td>\n",
       "      <td>56309</td>\n",
       "      <td>56323</td>\n",
       "      <td>2693209</td>\n",
       "      <td>NaN</td>\n",
       "      <td>NaN</td>\n",
       "      <td>NaN</td>\n",
       "      <td>NaN</td>\n",
       "      <td>NaN</td>\n",
       "      <td>NaN</td>\n",
       "      <td>08-JAN-18 17:21:10</td>\n",
       "      <td>NaN</td>\n",
       "    </tr>\n",
       "  </tbody>\n",
       "</table>\n",
       "</div>"
      ],
      "text/plain": [
       "  DATASOURCE        DAYOFSERVICE   TRIPID  PROGRNUMBER  STOPPOINTID  \\\n",
       "0         DB  01-JAN-18 00:00:00  5972116           12          119   \n",
       "1         DB  01-JAN-18 00:00:00  5966674           12          119   \n",
       "2         DB  01-JAN-18 00:00:00  5959105           12          119   \n",
       "3         DB  01-JAN-18 00:00:00  5966888           12          119   \n",
       "4         DB  01-JAN-18 00:00:00  5965960           12          119   \n",
       "\n",
       "   PLANNEDTIME_ARR  PLANNEDTIME_DEP  ACTUALTIME_ARR  ACTUALTIME_DEP  \\\n",
       "0            48030            48030           48012           48012   \n",
       "1            54001            54001           54023           54023   \n",
       "2            60001            60001           59955           59955   \n",
       "3            58801            58801           58771           58771   \n",
       "4            56401            56401           56309           56323   \n",
       "\n",
       "   VEHICLEID  PASSENGERS  PASSENGERSIN  PASSENGERSOUT  DISTANCE  SUPPRESSED  \\\n",
       "0    2693211         NaN           NaN            NaN       NaN         NaN   \n",
       "1    2693267         NaN           NaN            NaN       NaN         NaN   \n",
       "2    2693263         NaN           NaN            NaN       NaN         NaN   \n",
       "3    2693284         NaN           NaN            NaN       NaN         NaN   \n",
       "4    2693209         NaN           NaN            NaN       NaN         NaN   \n",
       "\n",
       "   JUSTIFICATIONID          LASTUPDATE  NOTE  \n",
       "0              NaN  08-JAN-18 17:21:10   NaN  \n",
       "1              NaN  08-JAN-18 17:21:10   NaN  \n",
       "2              NaN  08-JAN-18 17:21:10   NaN  \n",
       "3              NaN  08-JAN-18 17:21:10   NaN  \n",
       "4              NaN  08-JAN-18 17:21:10   NaN  "
      ]
     },
     "execution_count": 4,
     "metadata": {},
     "output_type": "execute_result"
    }
   ],
   "source": [
    "df_le[0].head(5)"
   ]
  },
  {
   "cell_type": "code",
   "execution_count": 5,
   "metadata": {},
   "outputs": [
    {
     "data": {
      "text/plain": [
       "(1000000, 18)"
      ]
     },
     "execution_count": 5,
     "metadata": {},
     "output_type": "execute_result"
    }
   ],
   "source": [
    "df_le[0].shape"
   ]
  },
  {
   "cell_type": "code",
   "execution_count": 6,
   "metadata": {},
   "outputs": [
    {
     "name": "stdout",
     "output_type": "stream",
     "text": [
      "0\n",
      "10\n",
      "20\n",
      "30\n",
      "40\n",
      "50\n",
      "60\n",
      "70\n",
      "80\n",
      "90\n",
      "100\n",
      "110\n"
     ]
    }
   ],
   "source": [
    "for i in range(0,117):\n",
    "    if i%10==0:\n",
    "        print(i)\n",
    "    df_le[i].drop(labels=['DATASOURCE','STOPPOINTID','PLANNEDTIME_ARR','PLANNEDTIME_DEP','ACTUALTIME_ARR','ACTUALTIME_DEP','VEHICLEID','PASSENGERS','PASSENGERSOUT','DISTANCE','SUPPRESSED','JUSTIFICATIONID','LASTUPDATE','PASSENGERSIN','NOTE'],axis=1,inplace=True)  "
   ]
  },
  {
   "cell_type": "code",
   "execution_count": 7,
   "metadata": {},
   "outputs": [
    {
     "name": "stdout",
     "output_type": "stream",
     "text": [
      "0\n",
      "10\n",
      "20\n",
      "30\n",
      "40\n",
      "50\n",
      "60\n",
      "70\n",
      "80\n",
      "90\n",
      "100\n",
      "110\n"
     ]
    }
   ],
   "source": [
    "chunks=[]\n",
    "for i in range(0,117):\n",
    "    if i%10==0:\n",
    "        print(i)\n",
    "    chunks.append(df_le[i])"
   ]
  },
  {
   "cell_type": "code",
   "execution_count": 8,
   "metadata": {},
   "outputs": [],
   "source": [
    "df_le={}"
   ]
  },
  {
   "cell_type": "code",
   "execution_count": 9,
   "metadata": {},
   "outputs": [],
   "source": [
    "df_pro = pd.concat(chunks, axis=0, ignore_index=True)"
   ]
  },
  {
   "cell_type": "code",
   "execution_count": 10,
   "metadata": {},
   "outputs": [],
   "source": [
    "chunks=[]"
   ]
  },
  {
   "cell_type": "markdown",
   "metadata": {},
   "source": [
    "### Get the required fields, DAYOFSERVICE, TRIPID and trip dataset correspondence"
   ]
  },
  {
   "cell_type": "code",
   "execution_count": 11,
   "metadata": {},
   "outputs": [
    {
     "data": {
      "text/html": [
       "<div>\n",
       "<style scoped>\n",
       "    .dataframe tbody tr th:only-of-type {\n",
       "        vertical-align: middle;\n",
       "    }\n",
       "\n",
       "    .dataframe tbody tr th {\n",
       "        vertical-align: top;\n",
       "    }\n",
       "\n",
       "    .dataframe thead th {\n",
       "        text-align: right;\n",
       "    }\n",
       "</style>\n",
       "<table border=\"1\" class=\"dataframe\">\n",
       "  <thead>\n",
       "    <tr style=\"text-align: right;\">\n",
       "      <th></th>\n",
       "      <th>DAYOFSERVICE</th>\n",
       "      <th>TRIPID</th>\n",
       "      <th>PROGRNUMBER</th>\n",
       "    </tr>\n",
       "  </thead>\n",
       "  <tbody>\n",
       "    <tr>\n",
       "      <th>0</th>\n",
       "      <td>01-JAN-18 00:00:00</td>\n",
       "      <td>5972116</td>\n",
       "      <td>12</td>\n",
       "    </tr>\n",
       "    <tr>\n",
       "      <th>1</th>\n",
       "      <td>01-JAN-18 00:00:00</td>\n",
       "      <td>5966674</td>\n",
       "      <td>12</td>\n",
       "    </tr>\n",
       "    <tr>\n",
       "      <th>2</th>\n",
       "      <td>01-JAN-18 00:00:00</td>\n",
       "      <td>5959105</td>\n",
       "      <td>12</td>\n",
       "    </tr>\n",
       "    <tr>\n",
       "      <th>3</th>\n",
       "      <td>01-JAN-18 00:00:00</td>\n",
       "      <td>5966888</td>\n",
       "      <td>12</td>\n",
       "    </tr>\n",
       "    <tr>\n",
       "      <th>4</th>\n",
       "      <td>01-JAN-18 00:00:00</td>\n",
       "      <td>5965960</td>\n",
       "      <td>12</td>\n",
       "    </tr>\n",
       "  </tbody>\n",
       "</table>\n",
       "</div>"
      ],
      "text/plain": [
       "         DAYOFSERVICE   TRIPID  PROGRNUMBER\n",
       "0  01-JAN-18 00:00:00  5972116           12\n",
       "1  01-JAN-18 00:00:00  5966674           12\n",
       "2  01-JAN-18 00:00:00  5959105           12\n",
       "3  01-JAN-18 00:00:00  5966888           12\n",
       "4  01-JAN-18 00:00:00  5965960           12"
      ]
     },
     "execution_count": 11,
     "metadata": {},
     "output_type": "execute_result"
    }
   ],
   "source": [
    "df_pro.head(5)"
   ]
  },
  {
   "cell_type": "code",
   "execution_count": 12,
   "metadata": {},
   "outputs": [
    {
     "data": {
      "text/plain": [
       "(116949113, 3)"
      ]
     },
     "execution_count": 12,
     "metadata": {},
     "output_type": "execute_result"
    }
   ],
   "source": [
    "df_pro.shape"
   ]
  },
  {
   "cell_type": "code",
   "execution_count": 16,
   "metadata": {},
   "outputs": [],
   "source": [
    "filename = f'lines/PROGRNUMBER.csv'\n",
    "df_pro.to_csv(filename, index_label=False)"
   ]
  },
  {
   "cell_type": "markdown",
   "metadata": {},
   "source": [
    "As the data set is relatively large, storage is done first"
   ]
  },
  {
   "cell_type": "code",
   "execution_count": null,
   "metadata": {},
   "outputs": [],
   "source": [
    "df_pro = pd.read_csv(\"lines/PROGRNUMBER.csv\",low_memory=False)"
   ]
  },
  {
   "cell_type": "markdown",
   "metadata": {},
   "source": [
    "### Get the maximum value of PROGRNUMBER, i.e. the total number of stops the bus has passed on the trip"
   ]
  },
  {
   "cell_type": "code",
   "execution_count": 13,
   "metadata": {},
   "outputs": [],
   "source": [
    "df_pro_max=df_pro.groupby(['TRIPID','DAYOFSERVICE'], as_index=False)['PROGRNUMBER'].max()"
   ]
  },
  {
   "cell_type": "code",
   "execution_count": 14,
   "metadata": {},
   "outputs": [
    {
     "data": {
      "text/html": [
       "<div>\n",
       "<style scoped>\n",
       "    .dataframe tbody tr th:only-of-type {\n",
       "        vertical-align: middle;\n",
       "    }\n",
       "\n",
       "    .dataframe tbody tr th {\n",
       "        vertical-align: top;\n",
       "    }\n",
       "\n",
       "    .dataframe thead th {\n",
       "        text-align: right;\n",
       "    }\n",
       "</style>\n",
       "<table border=\"1\" class=\"dataframe\">\n",
       "  <thead>\n",
       "    <tr style=\"text-align: right;\">\n",
       "      <th></th>\n",
       "      <th>TRIPID</th>\n",
       "      <th>DAYOFSERVICE</th>\n",
       "      <th>PROGRNUMBER</th>\n",
       "    </tr>\n",
       "  </thead>\n",
       "  <tbody>\n",
       "    <tr>\n",
       "      <th>0</th>\n",
       "      <td>5955221</td>\n",
       "      <td>06-JAN-18 00:00:00</td>\n",
       "      <td>76</td>\n",
       "    </tr>\n",
       "    <tr>\n",
       "      <th>1</th>\n",
       "      <td>5955222</td>\n",
       "      <td>06-JAN-18 00:00:00</td>\n",
       "      <td>75</td>\n",
       "    </tr>\n",
       "    <tr>\n",
       "      <th>2</th>\n",
       "      <td>5955223</td>\n",
       "      <td>06-JAN-18 00:00:00</td>\n",
       "      <td>76</td>\n",
       "    </tr>\n",
       "    <tr>\n",
       "      <th>3</th>\n",
       "      <td>5955224</td>\n",
       "      <td>06-JAN-18 00:00:00</td>\n",
       "      <td>75</td>\n",
       "    </tr>\n",
       "    <tr>\n",
       "      <th>4</th>\n",
       "      <td>5955225</td>\n",
       "      <td>06-JAN-18 00:00:00</td>\n",
       "      <td>76</td>\n",
       "    </tr>\n",
       "    <tr>\n",
       "      <th>...</th>\n",
       "      <td>...</td>\n",
       "      <td>...</td>\n",
       "      <td>...</td>\n",
       "    </tr>\n",
       "    <tr>\n",
       "      <th>2182615</th>\n",
       "      <td>8592206</td>\n",
       "      <td>26-DEC-18 00:00:00</td>\n",
       "      <td>65</td>\n",
       "    </tr>\n",
       "    <tr>\n",
       "      <th>2182616</th>\n",
       "      <td>8592206</td>\n",
       "      <td>30-DEC-18 00:00:00</td>\n",
       "      <td>65</td>\n",
       "    </tr>\n",
       "    <tr>\n",
       "      <th>2182617</th>\n",
       "      <td>8592207</td>\n",
       "      <td>23-DEC-18 00:00:00</td>\n",
       "      <td>69</td>\n",
       "    </tr>\n",
       "    <tr>\n",
       "      <th>2182618</th>\n",
       "      <td>8592207</td>\n",
       "      <td>26-DEC-18 00:00:00</td>\n",
       "      <td>69</td>\n",
       "    </tr>\n",
       "    <tr>\n",
       "      <th>2182619</th>\n",
       "      <td>8592207</td>\n",
       "      <td>30-DEC-18 00:00:00</td>\n",
       "      <td>69</td>\n",
       "    </tr>\n",
       "  </tbody>\n",
       "</table>\n",
       "<p>2182620 rows × 3 columns</p>\n",
       "</div>"
      ],
      "text/plain": [
       "          TRIPID        DAYOFSERVICE  PROGRNUMBER\n",
       "0        5955221  06-JAN-18 00:00:00           76\n",
       "1        5955222  06-JAN-18 00:00:00           75\n",
       "2        5955223  06-JAN-18 00:00:00           76\n",
       "3        5955224  06-JAN-18 00:00:00           75\n",
       "4        5955225  06-JAN-18 00:00:00           76\n",
       "...          ...                 ...          ...\n",
       "2182615  8592206  26-DEC-18 00:00:00           65\n",
       "2182616  8592206  30-DEC-18 00:00:00           65\n",
       "2182617  8592207  23-DEC-18 00:00:00           69\n",
       "2182618  8592207  26-DEC-18 00:00:00           69\n",
       "2182619  8592207  30-DEC-18 00:00:00           69\n",
       "\n",
       "[2182620 rows x 3 columns]"
      ]
     },
     "execution_count": 14,
     "metadata": {},
     "output_type": "execute_result"
    }
   ],
   "source": [
    "df_pro_max"
   ]
  },
  {
   "cell_type": "code",
   "execution_count": 15,
   "metadata": {},
   "outputs": [],
   "source": [
    "filename = f'lines/PROGRNUMBER_MAX.csv'\n",
    "df_pro_max.to_csv(filename, index_label=False)"
   ]
  },
  {
   "cell_type": "code",
   "execution_count": null,
   "metadata": {},
   "outputs": [],
   "source": []
  }
 ],
 "metadata": {
  "kernelspec": {
   "display_name": "Python 3",
   "language": "python",
   "name": "python3"
  },
  "language_info": {
   "codemirror_mode": {
    "name": "ipython",
    "version": 3
   },
   "file_extension": ".py",
   "mimetype": "text/x-python",
   "name": "python",
   "nbconvert_exporter": "python",
   "pygments_lexer": "ipython3",
   "version": "3.6.4"
  }
 },
 "nbformat": 4,
 "nbformat_minor": 2
}
